{
 "cells": [
  {
   "cell_type": "code",
   "execution_count": null,
   "metadata": {},
   "outputs": [],
   "source": []
  },
  {
   "cell_type": "markdown",
   "metadata": {},
   "source": [
    "# Table of Content\n",
    "\n",
    "[Python Basics](#PythonBasics)\n",
    "\n",
    "* [Introduction](#Introduction)\n",
    "* [History](#History)\n",
    "* [Python Philosophy](#PythonPhilosophy)\n",
    "\n",
    "\n",
    "\n",
    "\n",
    "* [Summary](#Summary) \n",
    "\n",
    "# <a id=\"PythonBasics\"></a>Python Basics\n",
    "\n",
    "## <a id=\"Introduction\"></a>Introduction\n",
    "\n",
    "Python is a high-level, general-purpose, dynamicaly interpreted programming language that focuses on code readability. The syntax in Python helps the developers to do less coding compared to Java or C++. \n",
    "Python is object oriented language which runs on multiple platforms. It has a large standard library with  automatic memory management and dynamic features built in.\n",
    "\n",
    "Python is stongly used in data science for topics like machine learning, deep learning, data visualization, data analysis. Apart from strong presence in data science, langauge is used for web development, scripting, etc. According to [TIOBE](https://www.tiobe.com/tiobe-index//) index from December 2018, Python is listed on third place.\n",
    "\n",
    "The language has following features:\n",
    "\n",
    "* Interactive\n",
    "* Interpreted\n",
    "* Modular\n",
    "* Dynamic\n",
    "* Object-oriented\n",
    "* Portable\n",
    "* High level\n",
    "* Extensible in C++ & C\n",
    "\n",
    "\n",
    "## <a id=\"History\"></a>History\n",
    "\n",
    "[Python](https://www.python.org/) is created by Guido van Rossum as a hobby project on which he work around Christmas in late 1980s. Python name comes from  British comedy troupe Monty Python's Flying Circus.\n",
    "\n",
    "Python was born out of the ABC language, a terminated project of the Dutch CWI research institute that van Rossum worked for, and the Amoeba distributed operating system.\n",
    "\n",
    "When Amoeba needed a scripting language, van Rossum created Python. One of the strengths of this new language was ability to easily be extend, support for multiple platforms which was a vital innovation in the days of the first personal computers. Capable of communicating with libraries and various file formats, Python quickly took off.\n",
    "\n",
    "Guido Van Rossum published the first version of Python code (version 0.9.0) at alt.sources in February 1991. This release included exception handling, functions, and the core data types of list, dict, str and others. That version was object oriented and with module system in.\n",
    "\n",
    "Python version 1.0 was released in January 1994. The major new features included in this release were the functional programming tools like lambda, map, filter and reduce.\n",
    "\n",
    "In October 2000, Python 2.0 was introduced. This release included list comprehensions, a full garbage collector and it was supporting unicode.\n",
    "\n",
    "![Image](course/assets/image/python-logo.png)\n",
    "\n",
    "8 years later, next major release as Python 3.0 (also known as \"Python 3000\" and \"Py3K\") was released. Python 3 is not backwards compatible with Python 2.x.\n",
    "\n",
    "Some of the changes which were introduced with Python 3.0 are:   \n",
    "\n",
    "* Print is now a function \n",
    "* Views and iterators instead of lists \n",
    "* The rules for ordering comparisons have been simplified \n",
    "* There is only one integer type left, i.e. int. long is int as well \n",
    "* The division of two integers returns a float instead of an integer\n",
    "\n",
    "Python 2 remains a supported language(for now). But in the future development of the Python 2 will be stopped, end-of life for Pythin 2.7 was announced for 2015 and then postponed to 2020.\n",
    "\n",
    "In this tutorial course we will focus on Python 3.\n"
   ]
  },
  {
   "cell_type": "markdown",
   "metadata": {},
   "source": [
    "\n",
    "## <a id=\"PythonPhilosophy\"></a>Python Philosophy\n",
    "    \n",
    "The language's core philosophy is summarized in the document [The Zen of Python (PEP 20)](https://en.wikipedia.org/wiki/Zen_of_Python), written by Tim Peters:\n",
    "\n",
    "*Beautiful is better than ugly.   \n",
    "Explicit is better than implicit.   \n",
    "Simple is better than complex.   \n",
    "Complex is better than complicated.   \n",
    "Flat is better than nested.   \n",
    "Sparse is better than dense.   \n",
    "Readability counts.   \n",
    "Special cases aren't special enough to break the rules.   \n",
    "Although practicality beats purity.   \n",
    "Errors should never pass silently.   \n",
    "Unless explicitly silenced.   \n",
    "In the face of ambiguity, refuse the temptation to guess.   \n",
    "There should be one-- and preferably only one --obvious way to do it.   \n",
    "Although that way may not be obvious at first unless you're Dutch.   \n",
    "Now is better than never.   \n",
    "Although never is often better than *right* now.   \n",
    "If the implementation is hard to explain, it's a bad idea.   \n",
    "If the implementation is easy to explain, it may be a good idea.   \n",
    "Namespaces are one honking great idea -- let's do more of those!   "
   ]
  },
  {
   "cell_type": "code",
   "execution_count": null,
   "metadata": {},
   "outputs": [],
   "source": []
  },
  {
   "cell_type": "code",
   "execution_count": 23,
   "metadata": {},
   "outputs": [
    {
     "name": "stdout",
     "output_type": "stream",
     "text": [
      "  6           0 LOAD_FAST                1 (a)\n",
      "              2 LOAD_FAST                2 (b)\n",
      "              4 BINARY_ADD\n",
      "              6 RETURN_VALUE\n"
     ]
    }
   ],
   "source": [
    "import dis\n",
    "\n",
    "class a:\n",
    "    \n",
    "    def f(self, a, b):\n",
    "        return a + b\n",
    "    \n",
    "def g():\n",
    "    x = 1\n",
    "    y = 2\n",
    "    return f(x, y)\n",
    "\n",
    "#dis.dis(g)\n",
    "a = a()\n",
    "#a.f()\n",
    "dis.dis(a.f)"
   ]
  },
  {
   "cell_type": "code",
   "execution_count": null,
   "metadata": {},
   "outputs": [],
   "source": [
    "https://opensource.com/article/18/4/introduction-python-bytecode\n",
    "https://stackoverflow.com/questions/14546178/does-python-have-a-stack-heap-and-how-is-memory-managed\n",
    "https://medium.com/@mindfiresolutions.usa/advantages-and-disadvantages-of-python-programming-language-fd0b394f2121"
   ]
  }
 ],
 "metadata": {
  "kernelspec": {
   "display_name": "Python 3",
   "language": "python",
   "name": "python3"
  },
  "language_info": {
   "codemirror_mode": {
    "name": "ipython",
    "version": 3
   },
   "file_extension": ".py",
   "mimetype": "text/x-python",
   "name": "python",
   "nbconvert_exporter": "python",
   "pygments_lexer": "ipython3",
   "version": "3.7.0"
  }
 },
 "nbformat": 4,
 "nbformat_minor": 2
}
